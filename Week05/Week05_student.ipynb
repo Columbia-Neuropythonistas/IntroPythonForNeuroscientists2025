{
 "cells": [
  {
   "cell_type": "markdown",
   "id": "10ea1bb4",
   "metadata": {},
   "source": [
    "# **Python for Neuro:** Week 5\n",
    "\n",
    "Today, we'll be reviewing functions, exceptions, and starting numpy!"
   ]
  },
  {
   "cell_type": "code",
   "execution_count": null,
   "id": "12687fd5",
   "metadata": {},
   "outputs": [],
   "source": []
  },
  {
   "cell_type": "code",
   "execution_count": null,
   "id": "562659ae",
   "metadata": {},
   "outputs": [],
   "source": []
  },
  {
   "cell_type": "markdown",
   "id": "c3ad9350",
   "metadata": {},
   "source": []
  }
 ],
 "metadata": {
  "kernelspec": {
   "display_name": "intropython",
   "language": "python",
   "name": "python3"
  },
  "language_info": {
   "name": "python",
   "version": "3.10.6"
  }
 },
 "nbformat": 4,
 "nbformat_minor": 5
}
